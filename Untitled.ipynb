{
 "cells": [
  {
   "cell_type": "code",
   "execution_count": 1,
   "metadata": {},
   "outputs": [
    {
     "name": "stdout",
     "output_type": "stream",
     "text": [
      "Processing /Users/ayechan/Library/Caches/pip/wheels/7e/d5/f4/f628965651f61ae35c2bdc73571ce1a2026e1550a336b5ad4b/yfinance-0.1.59-py2.py3-none-any.whl\n",
      "Requirement already satisfied: numpy>=1.15 in /Users/ayechan/opt/anaconda3/envs/dev/lib/python3.8/site-packages (from yfinance) (1.19.2)\n",
      "Requirement already satisfied: pandas>=0.24 in /Users/ayechan/opt/anaconda3/envs/dev/lib/python3.8/site-packages (from yfinance) (1.1.3)\n",
      "Requirement already satisfied: lxml>=4.5.1 in /Users/ayechan/opt/anaconda3/envs/dev/lib/python3.8/site-packages (from yfinance) (4.6.1)\n",
      "Requirement already satisfied: requests>=2.20 in /Users/ayechan/opt/anaconda3/envs/dev/lib/python3.8/site-packages (from yfinance) (2.24.0)\n",
      "Processing /Users/ayechan/Library/Caches/pip/wheels/57/6d/a3/a39b839cc75274d2acfb1c58bfead2f726c6577fe8c4723f13/multitasking-0.0.9-py3-none-any.whl\n",
      "Requirement already satisfied: pytz>=2017.2 in /Users/ayechan/opt/anaconda3/envs/dev/lib/python3.8/site-packages (from pandas>=0.24->yfinance) (2020.1)\n",
      "Requirement already satisfied: python-dateutil>=2.7.3 in /Users/ayechan/opt/anaconda3/envs/dev/lib/python3.8/site-packages (from pandas>=0.24->yfinance) (2.8.1)\n",
      "Requirement already satisfied: urllib3!=1.25.0,!=1.25.1,<1.26,>=1.21.1 in /Users/ayechan/opt/anaconda3/envs/dev/lib/python3.8/site-packages (from requests>=2.20->yfinance) (1.25.11)\n",
      "Requirement already satisfied: certifi>=2017.4.17 in /Users/ayechan/opt/anaconda3/envs/dev/lib/python3.8/site-packages (from requests>=2.20->yfinance) (2020.12.5)\n",
      "Requirement already satisfied: idna<3,>=2.5 in /Users/ayechan/opt/anaconda3/envs/dev/lib/python3.8/site-packages (from requests>=2.20->yfinance) (2.10)\n",
      "Requirement already satisfied: chardet<4,>=3.0.2 in /Users/ayechan/opt/anaconda3/envs/dev/lib/python3.8/site-packages (from requests>=2.20->yfinance) (3.0.4)\n",
      "Requirement already satisfied: six>=1.5 in /Users/ayechan/opt/anaconda3/envs/dev/lib/python3.8/site-packages (from python-dateutil>=2.7.3->pandas>=0.24->yfinance) (1.15.0)\n",
      "Installing collected packages: multitasking, yfinance\n",
      "Successfully installed multitasking-0.0.9 yfinance-0.1.59\n"
     ]
    }
   ],
   "source": [
    "!pip install yfinance"
   ]
  },
  {
   "cell_type": "code",
   "execution_count": 2,
   "metadata": {},
   "outputs": [
    {
     "name": "stdout",
     "output_type": "stream",
     "text": [
      "Collecting Backtesting\n",
      "  Downloading Backtesting-0.3.1.tar.gz (177 kB)\n",
      "\u001b[K     |████████████████████████████████| 177 kB 3.2 MB/s eta 0:00:01\n",
      "\u001b[?25hRequirement already satisfied: numpy in /Users/ayechan/opt/anaconda3/envs/dev/lib/python3.8/site-packages (from Backtesting) (1.19.2)\n",
      "Requirement already satisfied: pandas!=0.25.0,>=0.25.0 in /Users/ayechan/opt/anaconda3/envs/dev/lib/python3.8/site-packages (from Backtesting) (1.1.3)\n",
      "Requirement already satisfied: bokeh>=1.4.0 in /Users/ayechan/opt/anaconda3/envs/dev/lib/python3.8/site-packages (from Backtesting) (2.2.3)\n",
      "Requirement already satisfied: python-dateutil>=2.7.3 in /Users/ayechan/opt/anaconda3/envs/dev/lib/python3.8/site-packages (from pandas!=0.25.0,>=0.25.0->Backtesting) (2.8.1)\n",
      "Requirement already satisfied: pytz>=2017.2 in /Users/ayechan/opt/anaconda3/envs/dev/lib/python3.8/site-packages (from pandas!=0.25.0,>=0.25.0->Backtesting) (2020.1)\n",
      "Requirement already satisfied: typing-extensions>=3.7.4 in /Users/ayechan/opt/anaconda3/envs/dev/lib/python3.8/site-packages (from bokeh>=1.4.0->Backtesting) (3.7.4.3)\n",
      "Requirement already satisfied: tornado>=5.1 in /Users/ayechan/opt/anaconda3/envs/dev/lib/python3.8/site-packages (from bokeh>=1.4.0->Backtesting) (6.1)\n",
      "Requirement already satisfied: pillow>=7.1.0 in /Users/ayechan/opt/anaconda3/envs/dev/lib/python3.8/site-packages (from bokeh>=1.4.0->Backtesting) (8.0.1)\n",
      "Requirement already satisfied: Jinja2>=2.7 in /Users/ayechan/opt/anaconda3/envs/dev/lib/python3.8/site-packages (from bokeh>=1.4.0->Backtesting) (2.11.2)\n",
      "Requirement already satisfied: packaging>=16.8 in /Users/ayechan/opt/anaconda3/envs/dev/lib/python3.8/site-packages (from bokeh>=1.4.0->Backtesting) (20.4)\n",
      "Requirement already satisfied: PyYAML>=3.10 in /Users/ayechan/opt/anaconda3/envs/dev/lib/python3.8/site-packages (from bokeh>=1.4.0->Backtesting) (5.3.1)\n",
      "Requirement already satisfied: six>=1.5 in /Users/ayechan/opt/anaconda3/envs/dev/lib/python3.8/site-packages (from python-dateutil>=2.7.3->pandas!=0.25.0,>=0.25.0->Backtesting) (1.15.0)\n",
      "Requirement already satisfied: MarkupSafe>=0.23 in /Users/ayechan/opt/anaconda3/envs/dev/lib/python3.8/site-packages (from Jinja2>=2.7->bokeh>=1.4.0->Backtesting) (1.1.1)\n",
      "Requirement already satisfied: pyparsing>=2.0.2 in /Users/ayechan/opt/anaconda3/envs/dev/lib/python3.8/site-packages (from packaging>=16.8->bokeh>=1.4.0->Backtesting) (2.4.7)\n",
      "Building wheels for collected packages: Backtesting\n",
      "  Building wheel for Backtesting (setup.py) ... \u001b[?25ldone\n",
      "\u001b[?25h  Created wheel for Backtesting: filename=Backtesting-0.3.1-py3-none-any.whl size=173814 sha256=e6e5f4ef1f786a7bcb48f5905a66fd7890ab7528a0637681564bea71d5e9cf80\n",
      "  Stored in directory: /Users/ayechan/Library/Caches/pip/wheels/89/c1/76/8dd091daa14197075f6c109576dbf614de418dccd8d0c1dd2b\n",
      "Successfully built Backtesting\n",
      "Installing collected packages: Backtesting\n",
      "Successfully installed Backtesting-0.3.1\n"
     ]
    }
   ],
   "source": [
    "!pip install Backtesting"
   ]
  },
  {
   "cell_type": "code",
   "execution_count": 3,
   "metadata": {},
   "outputs": [
    {
     "name": "stdout",
     "output_type": "stream",
     "text": [
      "Collecting fastquant\n",
      "  Downloading fastquant-0.1.4.0-py3-none-any.whl (5.3 MB)\n",
      "\u001b[K     |████████████████████████████████| 5.3 MB 4.0 MB/s eta 0:00:01\n",
      "\u001b[?25hCollecting lxml>=4.6.2\n",
      "  Downloading lxml-4.6.3-cp38-cp38-macosx_10_9_x86_64.whl (4.6 MB)\n",
      "\u001b[K     |████████████████████████████████| 4.6 MB 1.3 MB/s eta 0:00:01     |█▋                              | 225 kB 1.3 MB/s eta 0:00:04     |██████████████▎                 | 2.0 MB 1.3 MB/s eta 0:00:02     |██████████████████████████████▏ | 4.3 MB 1.3 MB/s eta 0:00:01\n",
      "\u001b[?25hRequirement already satisfied: networkx>=2.4 in /Users/ayechan/opt/anaconda3/envs/dev/lib/python3.8/site-packages (from fastquant) (2.5)\n",
      "Requirement already satisfied: six>=1.13.0 in /Users/ayechan/opt/anaconda3/envs/dev/lib/python3.8/site-packages (from fastquant) (1.15.0)\n",
      "Requirement already satisfied: tqdm>=4.28.1 in /Users/ayechan/opt/anaconda3/envs/dev/lib/python3.8/site-packages (from fastquant) (4.50.2)\n",
      "Requirement already satisfied: python-dateutil>=2.8.1 in /Users/ayechan/opt/anaconda3/envs/dev/lib/python3.8/site-packages (from fastquant) (2.8.1)\n",
      "Collecting ccxt>=1.30.59\n",
      "  Downloading ccxt-1.48.41-py2.py3-none-any.whl (2.1 MB)\n",
      "\u001b[K     |████████████████████████████████| 2.1 MB 7.5 MB/s eta 0:00:01\n",
      "\u001b[?25hRequirement already satisfied: certifi>=2019.11.28 in /Users/ayechan/opt/anaconda3/envs/dev/lib/python3.8/site-packages (from fastquant) (2020.12.5)\n",
      "Requirement already satisfied: beautifulsoup4>=4.8.2 in /Users/ayechan/opt/anaconda3/envs/dev/lib/python3.8/site-packages (from fastquant) (4.9.3)\n",
      "Requirement already satisfied: oauthlib>=3.1.0 in /Users/ayechan/opt/anaconda3/envs/dev/lib/python3.8/site-packages (from fastquant) (3.1.0)\n",
      "Collecting bs4>=0.0.1\n",
      "  Downloading bs4-0.0.1.tar.gz (1.1 kB)\n",
      "Requirement already satisfied: scipy in /Users/ayechan/opt/anaconda3/envs/dev/lib/python3.8/site-packages (from fastquant) (1.5.2)\n",
      "Requirement already satisfied: matplotlib>=3.1.2 in /Users/ayechan/opt/anaconda3/envs/dev/lib/python3.8/site-packages (from fastquant) (3.3.2)\n",
      "Collecting black>=19.10b0\n",
      "  Downloading black-20.8b1.tar.gz (1.1 MB)\n",
      "\u001b[K     |████████████████████████████████| 1.1 MB 11.4 MB/s eta 0:00:01\n",
      "\u001b[?25h  Installing build dependencies ... \u001b[?25ldone\n",
      "\u001b[?25h  Getting requirements to build wheel ... \u001b[?25ldone\n",
      "\u001b[?25h    Preparing wheel metadata ... \u001b[?25ldone\n",
      "\u001b[?25hCollecting pre-commit\n",
      "  Downloading pre_commit-2.12.1-py2.py3-none-any.whl (189 kB)\n",
      "\u001b[K     |████████████████████████████████| 189 kB 17.2 MB/s eta 0:00:01\n",
      "\u001b[?25hCollecting croniter>=0.3.35\n",
      "  Downloading croniter-1.0.12-py2.py3-none-any.whl (16 kB)\n",
      "Requirement already satisfied: numpy>=1.18.0 in /Users/ayechan/opt/anaconda3/envs/dev/lib/python3.8/site-packages (from fastquant) (1.19.2)\n",
      "Collecting backtrader>=1.9.75.123\n",
      "  Using cached backtrader-1.9.76.123-py2.py3-none-any.whl (410 kB)\n",
      "Requirement already satisfied: requests>=2.22.0 in /Users/ayechan/opt/anaconda3/envs/dev/lib/python3.8/site-packages (from fastquant) (2.24.0)\n",
      "Requirement already satisfied: pytz>=2019.3 in /Users/ayechan/opt/anaconda3/envs/dev/lib/python3.8/site-packages (from fastquant) (2020.1)\n",
      "Collecting tweepy>=3.8.0\n",
      "  Downloading tweepy-3.10.0-py2.py3-none-any.whl (30 kB)\n",
      "Requirement already satisfied: PySocks>=1.7.1 in /Users/ayechan/opt/anaconda3/envs/dev/lib/python3.8/site-packages (from fastquant) (1.7.1)\n",
      "Requirement already satisfied: soupsieve>=1.9.5 in /Users/ayechan/opt/anaconda3/envs/dev/lib/python3.8/site-packages (from fastquant) (2.0.1)\n",
      "Requirement already satisfied: pandas>=1.0.3 in /Users/ayechan/opt/anaconda3/envs/dev/lib/python3.8/site-packages (from fastquant) (1.1.3)\n",
      "Requirement already satisfied: idna>=2.8 in /Users/ayechan/opt/anaconda3/envs/dev/lib/python3.8/site-packages (from fastquant) (2.10)\n",
      "Requirement already satisfied: chardet>=3.0.4 in /Users/ayechan/opt/anaconda3/envs/dev/lib/python3.8/site-packages (from fastquant) (3.0.4)\n",
      "Requirement already satisfied: nltk>=3.5 in /Users/ayechan/opt/anaconda3/envs/dev/lib/python3.8/site-packages (from fastquant) (3.5)\n",
      "Requirement already satisfied: yfinance>=0.1.54 in /Users/ayechan/opt/anaconda3/envs/dev/lib/python3.8/site-packages (from fastquant) (0.1.59)\n",
      "Requirement already satisfied: urllib3>=1.25.7 in /Users/ayechan/opt/anaconda3/envs/dev/lib/python3.8/site-packages (from fastquant) (1.25.11)\n",
      "Requirement already satisfied: requests-oauthlib>=1.3.0 in /Users/ayechan/opt/anaconda3/envs/dev/lib/python3.8/site-packages (from fastquant) (1.3.0)\n",
      "Requirement already satisfied: decorator>=4.3.0 in /Users/ayechan/opt/anaconda3/envs/dev/lib/python3.8/site-packages (from networkx>=2.4->fastquant) (4.4.2)\n",
      "Collecting yarl==1.1.0; python_version >= \"3.5.2\"\n",
      "  Using cached yarl-1.1.0.tar.gz (156 kB)\n",
      "Requirement already satisfied: setuptools>=38.5.1 in /Users/ayechan/opt/anaconda3/envs/dev/lib/python3.8/site-packages (from ccxt>=1.30.59->fastquant) (50.3.1.post20201107)\n",
      "Requirement already satisfied: cryptography>=2.6.1 in /Users/ayechan/opt/anaconda3/envs/dev/lib/python3.8/site-packages (from ccxt>=1.30.59->fastquant) (3.1.1)\n",
      "Collecting aiohttp<3.8,>=3.7.4; python_version >= \"3.5.2\"\n",
      "  Using cached aiohttp-3.7.4.post0-cp38-cp38-macosx_10_14_x86_64.whl (648 kB)\n",
      "Collecting aiodns<2.1,>=1.1.1; python_version >= \"3.5.2\"\n",
      "  Using cached aiodns-2.0.0-py2.py3-none-any.whl (4.8 kB)\n",
      "Requirement already satisfied: kiwisolver>=1.0.1 in /Users/ayechan/opt/anaconda3/envs/dev/lib/python3.8/site-packages (from matplotlib>=3.1.2->fastquant) (1.3.0)\n",
      "Requirement already satisfied: pillow>=6.2.0 in /Users/ayechan/opt/anaconda3/envs/dev/lib/python3.8/site-packages (from matplotlib>=3.1.2->fastquant) (8.0.1)\n",
      "Requirement already satisfied: pyparsing!=2.0.4,!=2.1.2,!=2.1.6,>=2.0.3 in /Users/ayechan/opt/anaconda3/envs/dev/lib/python3.8/site-packages (from matplotlib>=3.1.2->fastquant) (2.4.7)\n",
      "Requirement already satisfied: cycler>=0.10 in /Users/ayechan/opt/anaconda3/envs/dev/lib/python3.8/site-packages (from matplotlib>=3.1.2->fastquant) (0.10.0)\n",
      "Requirement already satisfied: click>=7.1.2 in /Users/ayechan/opt/anaconda3/envs/dev/lib/python3.8/site-packages (from black>=19.10b0->fastquant) (7.1.2)\n",
      "Collecting pathspec<1,>=0.6\n",
      "  Downloading pathspec-0.8.1-py2.py3-none-any.whl (28 kB)\n",
      "Requirement already satisfied: regex>=2020.1.8 in /Users/ayechan/opt/anaconda3/envs/dev/lib/python3.8/site-packages (from black>=19.10b0->fastquant) (2020.10.15)\n",
      "Collecting appdirs\n",
      "  Downloading appdirs-1.4.4-py2.py3-none-any.whl (9.6 kB)\n",
      "Collecting mypy-extensions>=0.4.3\n",
      "  Downloading mypy_extensions-0.4.3-py2.py3-none-any.whl (4.5 kB)\n",
      "Collecting typed-ast>=1.4.0\n",
      "  Downloading typed_ast-1.4.3-cp38-cp38-macosx_10_9_x86_64.whl (225 kB)\n",
      "\u001b[K     |████████████████████████████████| 225 kB 11.3 MB/s eta 0:00:01\n",
      "\u001b[?25hRequirement already satisfied: typing-extensions>=3.7.4 in /Users/ayechan/opt/anaconda3/envs/dev/lib/python3.8/site-packages (from black>=19.10b0->fastquant) (3.7.4.3)\n",
      "Requirement already satisfied: toml>=0.10.1 in /Users/ayechan/opt/anaconda3/envs/dev/lib/python3.8/site-packages (from black>=19.10b0->fastquant) (0.10.1)\n",
      "Collecting identify>=1.0.0\n",
      "  Using cached identify-2.2.4-py2.py3-none-any.whl (98 kB)\n",
      "Collecting cfgv>=2.0.0\n",
      "  Using cached cfgv-3.2.0-py2.py3-none-any.whl (7.3 kB)\n",
      "Requirement already satisfied: pyyaml>=5.1 in /Users/ayechan/opt/anaconda3/envs/dev/lib/python3.8/site-packages (from pre-commit->fastquant) (5.3.1)\n",
      "Collecting virtualenv>=20.0.8\n",
      "  Using cached virtualenv-20.4.4-py2.py3-none-any.whl (7.2 MB)\n",
      "Collecting nodeenv>=0.11.1\n",
      "  Using cached nodeenv-1.6.0-py2.py3-none-any.whl (21 kB)\n",
      "Requirement already satisfied: joblib in /Users/ayechan/opt/anaconda3/envs/dev/lib/python3.8/site-packages (from nltk>=3.5->fastquant) (0.17.0)\n",
      "Requirement already satisfied: multitasking>=0.0.7 in /Users/ayechan/opt/anaconda3/envs/dev/lib/python3.8/site-packages (from yfinance>=0.1.54->fastquant) (0.0.9)\n",
      "Collecting multidict>=4.0\n",
      "  Using cached multidict-5.1.0-cp38-cp38-macosx_10_14_x86_64.whl (49 kB)\n",
      "Requirement already satisfied: cffi!=1.11.3,>=1.8 in /Users/ayechan/opt/anaconda3/envs/dev/lib/python3.8/site-packages (from cryptography>=2.6.1->ccxt>=1.30.59->fastquant) (1.14.3)\n",
      "Collecting async-timeout<4.0,>=3.0\n",
      "  Using cached async_timeout-3.0.1-py3-none-any.whl (8.2 kB)\n",
      "Requirement already satisfied: attrs>=17.3.0 in /Users/ayechan/opt/anaconda3/envs/dev/lib/python3.8/site-packages (from aiohttp<3.8,>=3.7.4; python_version >= \"3.5.2\"->ccxt>=1.30.59->fastquant) (20.3.0)\n",
      "Collecting pycares>=3.0.0\n",
      "  Using cached pycares-3.1.1-cp38-cp38-macosx_10_9_x86_64.whl (65 kB)\n",
      "Collecting distlib<1,>=0.3.1\n",
      "  Using cached distlib-0.3.1-py2.py3-none-any.whl (335 kB)\n",
      "Requirement already satisfied: filelock<4,>=3.0.0 in /Users/ayechan/opt/anaconda3/envs/dev/lib/python3.8/site-packages (from virtualenv>=20.0.8->pre-commit->fastquant) (3.0.12)\n",
      "Requirement already satisfied: pycparser in /Users/ayechan/opt/anaconda3/envs/dev/lib/python3.8/site-packages (from cffi!=1.11.3,>=1.8->cryptography>=2.6.1->ccxt>=1.30.59->fastquant) (2.20)\n",
      "Building wheels for collected packages: bs4, black, yarl\n",
      "  Building wheel for bs4 (setup.py) ... \u001b[?25ldone\n",
      "\u001b[?25h  Created wheel for bs4: filename=bs4-0.0.1-py3-none-any.whl size=1273 sha256=34894446163e2b6b83b13da4f6bc252dca473ecea90412ef9e999f4e8d3bd68d\n",
      "  Stored in directory: /Users/ayechan/Library/Caches/pip/wheels/75/78/21/68b124549c9bdc94f822c02fb9aa3578a669843f9767776bca\n",
      "  Building wheel for black (PEP 517) ... \u001b[?25ldone\n",
      "\u001b[?25h  Created wheel for black: filename=black-20.8b1-py3-none-any.whl size=124184 sha256=0804d57b945c30e1a645a2a66e61a62a7e118008f6b31efdc00fe96b4ecd1dd9\n",
      "  Stored in directory: /Users/ayechan/Library/Caches/pip/wheels/95/a4/59/10cd5378d52f92cdb45025f040e4686e10ae5217961c25fd66\n",
      "  Building wheel for yarl (setup.py) ... \u001b[?25ldone\n",
      "\u001b[?25h  Created wheel for yarl: filename=yarl-1.1.0-cp38-cp38-macosx_10_9_x86_64.whl size=122195 sha256=1dbad3ce21fdf7f438246e46765904d7e89f8b30fe3955e958fef1b70c6ba70b\n",
      "  Stored in directory: /Users/ayechan/Library/Caches/pip/wheels/82/ad/ec/51f1c7833ed931c471836a6f1afc7c2664bd898e0b4ce30d25\n",
      "Successfully built bs4 black yarl\n",
      "Installing collected packages: lxml, multidict, yarl, async-timeout, aiohttp, pycares, aiodns, ccxt, bs4, pathspec, appdirs, mypy-extensions, typed-ast, black, identify, cfgv, distlib, virtualenv, nodeenv, pre-commit, croniter, backtrader, tweepy, fastquant\n",
      "  Attempting uninstall: lxml\n",
      "    Found existing installation: lxml 4.6.1\n",
      "    Uninstalling lxml-4.6.1:\n",
      "      Successfully uninstalled lxml-4.6.1\n",
      "Successfully installed aiodns-2.0.0 aiohttp-3.7.4.post0 appdirs-1.4.4 async-timeout-3.0.1 backtrader-1.9.76.123 black-20.8b1 bs4-0.0.1 ccxt-1.48.41 cfgv-3.2.0 croniter-1.0.12 distlib-0.3.1 fastquant-0.1.4.0 identify-2.2.4 lxml-4.6.3 multidict-5.1.0 mypy-extensions-0.4.3 nodeenv-1.6.0 pathspec-0.8.1 pre-commit-2.12.1 pycares-3.1.1 tweepy-3.10.0 typed-ast-1.4.3 virtualenv-20.4.4 yarl-1.1.0\n"
     ]
    }
   ],
   "source": [
    "!pip install fastquant"
   ]
  },
  {
   "cell_type": "code",
   "execution_count": 1,
   "metadata": {},
   "outputs": [
    {
     "name": "stdout",
     "output_type": "stream",
     "text": [
      "Collecting backtest\n",
      "  Downloading backtest-0.7.6-py3-none-any.whl (24 kB)\n",
      "Requirement already satisfied: numpy in /Users/ayechan/opt/anaconda3/envs/dev/lib/python3.8/site-packages (from backtest) (1.19.2)\n",
      "Installing collected packages: backtest\n",
      "Successfully installed backtest-0.7.6\n"
     ]
    }
   ],
   "source": [
    "!pip install backtest"
   ]
  },
  {
   "cell_type": "code",
   "execution_count": 2,
   "metadata": {},
   "outputs": [
    {
     "name": "stdout",
     "output_type": "stream",
     "text": [
      "Requirement already satisfied: fastquant in /Users/ayechan/opt/anaconda3/envs/dev/lib/python3.8/site-packages (0.1.4.0)\n",
      "Requirement already satisfied: chardet>=3.0.4 in /Users/ayechan/opt/anaconda3/envs/dev/lib/python3.8/site-packages (from fastquant) (3.0.4)\n",
      "Requirement already satisfied: numpy>=1.18.0 in /Users/ayechan/opt/anaconda3/envs/dev/lib/python3.8/site-packages (from fastquant) (1.19.2)\n",
      "Requirement already satisfied: matplotlib>=3.1.2 in /Users/ayechan/opt/anaconda3/envs/dev/lib/python3.8/site-packages (from fastquant) (3.3.2)\n",
      "Requirement already satisfied: nltk>=3.5 in /Users/ayechan/opt/anaconda3/envs/dev/lib/python3.8/site-packages (from fastquant) (3.5)\n",
      "Requirement already satisfied: bs4>=0.0.1 in /Users/ayechan/opt/anaconda3/envs/dev/lib/python3.8/site-packages (from fastquant) (0.0.1)\n",
      "Requirement already satisfied: requests-oauthlib>=1.3.0 in /Users/ayechan/opt/anaconda3/envs/dev/lib/python3.8/site-packages (from fastquant) (1.3.0)\n",
      "Requirement already satisfied: requests>=2.22.0 in /Users/ayechan/opt/anaconda3/envs/dev/lib/python3.8/site-packages (from fastquant) (2.24.0)\n",
      "Requirement already satisfied: pre-commit in /Users/ayechan/opt/anaconda3/envs/dev/lib/python3.8/site-packages (from fastquant) (2.12.1)\n",
      "Requirement already satisfied: certifi>=2019.11.28 in /Users/ayechan/opt/anaconda3/envs/dev/lib/python3.8/site-packages (from fastquant) (2020.12.5)\n",
      "Requirement already satisfied: ccxt>=1.30.59 in /Users/ayechan/opt/anaconda3/envs/dev/lib/python3.8/site-packages (from fastquant) (1.48.41)\n",
      "Requirement already satisfied: scipy in /Users/ayechan/opt/anaconda3/envs/dev/lib/python3.8/site-packages (from fastquant) (1.5.2)\n",
      "Requirement already satisfied: six>=1.13.0 in /Users/ayechan/opt/anaconda3/envs/dev/lib/python3.8/site-packages (from fastquant) (1.15.0)\n",
      "Requirement already satisfied: pandas>=1.0.3 in /Users/ayechan/opt/anaconda3/envs/dev/lib/python3.8/site-packages (from fastquant) (1.1.3)\n",
      "Requirement already satisfied: yfinance>=0.1.54 in /Users/ayechan/opt/anaconda3/envs/dev/lib/python3.8/site-packages (from fastquant) (0.1.59)\n",
      "Requirement already satisfied: idna>=2.8 in /Users/ayechan/opt/anaconda3/envs/dev/lib/python3.8/site-packages (from fastquant) (2.10)\n",
      "Requirement already satisfied: PySocks>=1.7.1 in /Users/ayechan/opt/anaconda3/envs/dev/lib/python3.8/site-packages (from fastquant) (1.7.1)\n",
      "Requirement already satisfied: networkx>=2.4 in /Users/ayechan/opt/anaconda3/envs/dev/lib/python3.8/site-packages (from fastquant) (2.5)\n",
      "Requirement already satisfied: urllib3>=1.25.7 in /Users/ayechan/opt/anaconda3/envs/dev/lib/python3.8/site-packages (from fastquant) (1.25.11)\n",
      "Requirement already satisfied: soupsieve>=1.9.5 in /Users/ayechan/opt/anaconda3/envs/dev/lib/python3.8/site-packages (from fastquant) (2.0.1)\n",
      "Requirement already satisfied: oauthlib>=3.1.0 in /Users/ayechan/opt/anaconda3/envs/dev/lib/python3.8/site-packages (from fastquant) (3.1.0)\n",
      "Requirement already satisfied: pytz>=2019.3 in /Users/ayechan/opt/anaconda3/envs/dev/lib/python3.8/site-packages (from fastquant) (2020.1)\n",
      "Requirement already satisfied: tqdm>=4.28.1 in /Users/ayechan/opt/anaconda3/envs/dev/lib/python3.8/site-packages (from fastquant) (4.50.2)\n",
      "Requirement already satisfied: beautifulsoup4>=4.8.2 in /Users/ayechan/opt/anaconda3/envs/dev/lib/python3.8/site-packages (from fastquant) (4.9.3)\n",
      "Requirement already satisfied: backtrader>=1.9.75.123 in /Users/ayechan/opt/anaconda3/envs/dev/lib/python3.8/site-packages (from fastquant) (1.9.76.123)\n",
      "Requirement already satisfied: croniter>=0.3.35 in /Users/ayechan/opt/anaconda3/envs/dev/lib/python3.8/site-packages (from fastquant) (1.0.12)\n",
      "Requirement already satisfied: python-dateutil>=2.8.1 in /Users/ayechan/opt/anaconda3/envs/dev/lib/python3.8/site-packages (from fastquant) (2.8.1)\n",
      "Requirement already satisfied: lxml>=4.6.2 in /Users/ayechan/opt/anaconda3/envs/dev/lib/python3.8/site-packages (from fastquant) (4.6.3)\n",
      "Requirement already satisfied: black>=19.10b0 in /Users/ayechan/opt/anaconda3/envs/dev/lib/python3.8/site-packages (from fastquant) (20.8b1)\n",
      "Requirement already satisfied: tweepy>=3.8.0 in /Users/ayechan/opt/anaconda3/envs/dev/lib/python3.8/site-packages (from fastquant) (3.10.0)\n",
      "Requirement already satisfied: pyparsing!=2.0.4,!=2.1.2,!=2.1.6,>=2.0.3 in /Users/ayechan/opt/anaconda3/envs/dev/lib/python3.8/site-packages (from matplotlib>=3.1.2->fastquant) (2.4.7)\n",
      "Requirement already satisfied: cycler>=0.10 in /Users/ayechan/opt/anaconda3/envs/dev/lib/python3.8/site-packages (from matplotlib>=3.1.2->fastquant) (0.10.0)\n",
      "Requirement already satisfied: kiwisolver>=1.0.1 in /Users/ayechan/opt/anaconda3/envs/dev/lib/python3.8/site-packages (from matplotlib>=3.1.2->fastquant) (1.3.0)\n",
      "Requirement already satisfied: pillow>=6.2.0 in /Users/ayechan/opt/anaconda3/envs/dev/lib/python3.8/site-packages (from matplotlib>=3.1.2->fastquant) (8.0.1)\n",
      "Requirement already satisfied: regex in /Users/ayechan/opt/anaconda3/envs/dev/lib/python3.8/site-packages (from nltk>=3.5->fastquant) (2020.10.15)\n",
      "Requirement already satisfied: joblib in /Users/ayechan/opt/anaconda3/envs/dev/lib/python3.8/site-packages (from nltk>=3.5->fastquant) (0.17.0)\n",
      "Requirement already satisfied: click in /Users/ayechan/opt/anaconda3/envs/dev/lib/python3.8/site-packages (from nltk>=3.5->fastquant) (7.1.2)\n",
      "Requirement already satisfied: toml in /Users/ayechan/opt/anaconda3/envs/dev/lib/python3.8/site-packages (from pre-commit->fastquant) (0.10.1)\n",
      "Requirement already satisfied: pyyaml>=5.1 in /Users/ayechan/opt/anaconda3/envs/dev/lib/python3.8/site-packages (from pre-commit->fastquant) (5.3.1)\n",
      "Requirement already satisfied: virtualenv>=20.0.8 in /Users/ayechan/opt/anaconda3/envs/dev/lib/python3.8/site-packages (from pre-commit->fastquant) (20.4.4)\n",
      "Requirement already satisfied: nodeenv>=0.11.1 in /Users/ayechan/opt/anaconda3/envs/dev/lib/python3.8/site-packages (from pre-commit->fastquant) (1.6.0)\n",
      "Requirement already satisfied: identify>=1.0.0 in /Users/ayechan/opt/anaconda3/envs/dev/lib/python3.8/site-packages (from pre-commit->fastquant) (2.2.4)\n",
      "Requirement already satisfied: cfgv>=2.0.0 in /Users/ayechan/opt/anaconda3/envs/dev/lib/python3.8/site-packages (from pre-commit->fastquant) (3.2.0)\n",
      "Requirement already satisfied: aiohttp<3.8,>=3.7.4; python_version >= \"3.5.2\" in /Users/ayechan/opt/anaconda3/envs/dev/lib/python3.8/site-packages (from ccxt>=1.30.59->fastquant) (3.7.4.post0)\n",
      "Requirement already satisfied: cryptography>=2.6.1 in /Users/ayechan/opt/anaconda3/envs/dev/lib/python3.8/site-packages (from ccxt>=1.30.59->fastquant) (3.1.1)\n",
      "Requirement already satisfied: setuptools>=38.5.1 in /Users/ayechan/opt/anaconda3/envs/dev/lib/python3.8/site-packages (from ccxt>=1.30.59->fastquant) (50.3.1.post20201107)\n",
      "Requirement already satisfied: yarl==1.1.0; python_version >= \"3.5.2\" in /Users/ayechan/opt/anaconda3/envs/dev/lib/python3.8/site-packages (from ccxt>=1.30.59->fastquant) (1.1.0)\n",
      "Requirement already satisfied: aiodns<2.1,>=1.1.1; python_version >= \"3.5.2\" in /Users/ayechan/opt/anaconda3/envs/dev/lib/python3.8/site-packages (from ccxt>=1.30.59->fastquant) (2.0.0)\n",
      "Requirement already satisfied: multitasking>=0.0.7 in /Users/ayechan/opt/anaconda3/envs/dev/lib/python3.8/site-packages (from yfinance>=0.1.54->fastquant) (0.0.9)\n",
      "Requirement already satisfied: decorator>=4.3.0 in /Users/ayechan/opt/anaconda3/envs/dev/lib/python3.8/site-packages (from networkx>=2.4->fastquant) (4.4.2)\n",
      "Requirement already satisfied: mypy-extensions>=0.4.3 in /Users/ayechan/opt/anaconda3/envs/dev/lib/python3.8/site-packages (from black>=19.10b0->fastquant) (0.4.3)\n",
      "Requirement already satisfied: typed-ast>=1.4.0 in /Users/ayechan/opt/anaconda3/envs/dev/lib/python3.8/site-packages (from black>=19.10b0->fastquant) (1.4.3)\n",
      "Requirement already satisfied: appdirs in /Users/ayechan/opt/anaconda3/envs/dev/lib/python3.8/site-packages (from black>=19.10b0->fastquant) (1.4.4)\n",
      "Requirement already satisfied: pathspec<1,>=0.6 in /Users/ayechan/opt/anaconda3/envs/dev/lib/python3.8/site-packages (from black>=19.10b0->fastquant) (0.8.1)\n",
      "Requirement already satisfied: typing-extensions>=3.7.4 in /Users/ayechan/opt/anaconda3/envs/dev/lib/python3.8/site-packages (from black>=19.10b0->fastquant) (3.7.4.3)\n",
      "Requirement already satisfied: distlib<1,>=0.3.1 in /Users/ayechan/opt/anaconda3/envs/dev/lib/python3.8/site-packages (from virtualenv>=20.0.8->pre-commit->fastquant) (0.3.1)\n",
      "Requirement already satisfied: filelock<4,>=3.0.0 in /Users/ayechan/opt/anaconda3/envs/dev/lib/python3.8/site-packages (from virtualenv>=20.0.8->pre-commit->fastquant) (3.0.12)\n",
      "Requirement already satisfied: attrs>=17.3.0 in /Users/ayechan/opt/anaconda3/envs/dev/lib/python3.8/site-packages (from aiohttp<3.8,>=3.7.4; python_version >= \"3.5.2\"->ccxt>=1.30.59->fastquant) (20.3.0)\n",
      "Requirement already satisfied: async-timeout<4.0,>=3.0 in /Users/ayechan/opt/anaconda3/envs/dev/lib/python3.8/site-packages (from aiohttp<3.8,>=3.7.4; python_version >= \"3.5.2\"->ccxt>=1.30.59->fastquant) (3.0.1)\n",
      "Requirement already satisfied: multidict<7.0,>=4.5 in /Users/ayechan/opt/anaconda3/envs/dev/lib/python3.8/site-packages (from aiohttp<3.8,>=3.7.4; python_version >= \"3.5.2\"->ccxt>=1.30.59->fastquant) (5.1.0)\n",
      "Requirement already satisfied: cffi!=1.11.3,>=1.8 in /Users/ayechan/opt/anaconda3/envs/dev/lib/python3.8/site-packages (from cryptography>=2.6.1->ccxt>=1.30.59->fastquant) (1.14.3)\n",
      "Requirement already satisfied: pycares>=3.0.0 in /Users/ayechan/opt/anaconda3/envs/dev/lib/python3.8/site-packages (from aiodns<2.1,>=1.1.1; python_version >= \"3.5.2\"->ccxt>=1.30.59->fastquant) (3.1.1)\n",
      "Requirement already satisfied: pycparser in /Users/ayechan/opt/anaconda3/envs/dev/lib/python3.8/site-packages (from cffi!=1.11.3,>=1.8->cryptography>=2.6.1->ccxt>=1.30.59->fastquant) (2.20)\n"
     ]
    }
   ],
   "source": [
    "!pip install fastquant"
   ]
  },
  {
   "cell_type": "code",
   "execution_count": 3,
   "metadata": {},
   "outputs": [
    {
     "name": "stdout",
     "output_type": "stream",
     "text": [
      "Collecting matplotlib==3.2.2\n",
      "  Downloading matplotlib-3.2.2-cp38-cp38-macosx_10_9_x86_64.whl (12.5 MB)\n",
      "\u001b[K     |████████████████████████████████| 12.5 MB 4.1 MB/s eta 0:00:01\n",
      "\u001b[?25hRequirement already satisfied: pyparsing!=2.0.4,!=2.1.2,!=2.1.6,>=2.0.1 in /Users/ayechan/opt/anaconda3/envs/dev/lib/python3.8/site-packages (from matplotlib==3.2.2) (2.4.7)\n",
      "Requirement already satisfied: cycler>=0.10 in /Users/ayechan/opt/anaconda3/envs/dev/lib/python3.8/site-packages (from matplotlib==3.2.2) (0.10.0)\n",
      "Requirement already satisfied: numpy>=1.11 in /Users/ayechan/opt/anaconda3/envs/dev/lib/python3.8/site-packages (from matplotlib==3.2.2) (1.19.2)\n",
      "Requirement already satisfied: python-dateutil>=2.1 in /Users/ayechan/opt/anaconda3/envs/dev/lib/python3.8/site-packages (from matplotlib==3.2.2) (2.8.1)\n",
      "Requirement already satisfied: kiwisolver>=1.0.1 in /Users/ayechan/opt/anaconda3/envs/dev/lib/python3.8/site-packages (from matplotlib==3.2.2) (1.3.0)\n",
      "Requirement already satisfied: six in /Users/ayechan/opt/anaconda3/envs/dev/lib/python3.8/site-packages (from cycler>=0.10->matplotlib==3.2.2) (1.15.0)\n",
      "Installing collected packages: matplotlib\n",
      "  Attempting uninstall: matplotlib\n",
      "    Found existing installation: matplotlib 3.3.2\n",
      "    Uninstalling matplotlib-3.3.2:\n",
      "      Successfully uninstalled matplotlib-3.3.2\n",
      "Successfully installed matplotlib-3.2.2\n"
     ]
    }
   ],
   "source": [
    "!pip install matplotlib==3.2.2"
   ]
  },
  {
   "cell_type": "code",
   "execution_count": null,
   "metadata": {},
   "outputs": [
    {
     "name": "stdout",
     "output_type": "stream",
     "text": [
      "Found existing installation: matplotlib 3.2.2\n",
      "Uninstalling matplotlib-3.2.2:\n",
      "  Would remove:\n",
      "    /Users/ayechan/opt/anaconda3/envs/dev/lib/python3.8/site-packages/matplotlib-3.2.2-py3.8-nspkg.pth\n",
      "    /Users/ayechan/opt/anaconda3/envs/dev/lib/python3.8/site-packages/matplotlib-3.2.2.dist-info/*\n",
      "    /Users/ayechan/opt/anaconda3/envs/dev/lib/python3.8/site-packages/matplotlib/*\n",
      "    /Users/ayechan/opt/anaconda3/envs/dev/lib/python3.8/site-packages/mpl_toolkits/axes_grid/*\n",
      "    /Users/ayechan/opt/anaconda3/envs/dev/lib/python3.8/site-packages/mpl_toolkits/axes_grid1/*\n",
      "    /Users/ayechan/opt/anaconda3/envs/dev/lib/python3.8/site-packages/mpl_toolkits/axisartist/*\n",
      "    /Users/ayechan/opt/anaconda3/envs/dev/lib/python3.8/site-packages/mpl_toolkits/mplot3d/*\n",
      "    /Users/ayechan/opt/anaconda3/envs/dev/lib/python3.8/site-packages/mpl_toolkits/tests/*\n",
      "    /Users/ayechan/opt/anaconda3/envs/dev/lib/python3.8/site-packages/pylab.py\n",
      "Proceed (y/n)? "
     ]
    }
   ],
   "source": [
    "!pip uninstall matplotlib "
   ]
  },
  {
   "cell_type": "code",
   "execution_count": null,
   "metadata": {},
   "outputs": [],
   "source": [
    "!pip uninstall matplotlib "
   ]
  },
  {
   "cell_type": "code",
   "execution_count": null,
   "metadata": {},
   "outputs": [],
   "source": []
  }
 ],
 "metadata": {
  "kernelspec": {
   "display_name": "Python (dev)",
   "language": "python",
   "name": "dev"
  },
  "language_info": {
   "codemirror_mode": {
    "name": "ipython",
    "version": 3
   },
   "file_extension": ".py",
   "mimetype": "text/x-python",
   "name": "python",
   "nbconvert_exporter": "python",
   "pygments_lexer": "ipython3",
   "version": "3.8.5"
  }
 },
 "nbformat": 4,
 "nbformat_minor": 4
}
